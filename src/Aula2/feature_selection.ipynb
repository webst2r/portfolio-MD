{
 "cells": [
  {
   "attachments": {},
   "cell_type": "markdown",
   "metadata": {},
   "source": [
    "### Feature Selection"
   ]
  },
  {
   "attachments": {},
   "cell_type": "markdown",
   "metadata": {},
   "source": [
    "Imports"
   ]
  },
  {
   "cell_type": "code",
   "execution_count": 1,
   "metadata": {},
   "outputs": [],
   "source": [
    "import numpy as np\n",
    "import pandas as pd\n",
    "import sys\n",
    "from typing import Tuple, Union\n",
    "sys.path.append('..')\n",
    "from Aula1.Dataset import Dataset\n",
    "sys.path.remove('..')\n",
    "from typing import Callable\n",
    "from scipy import stats\n",
    "from f_classification import FClassification\n",
    "from f_regression import FRegression"
   ]
  },
  {
   "attachments": {},
   "cell_type": "markdown",
   "metadata": {},
   "source": [
    "Get the data"
   ]
  },
  {
   "cell_type": "code",
   "execution_count": 2,
   "metadata": {},
   "outputs": [],
   "source": [
    "def read_csv(filename: str,\n",
    "             sep: str = ',',\n",
    "             features: bool = False,\n",
    "             label: bool = False) -> Dataset:\n",
    "    \"\"\"\n",
    "    Reads a csv file (data file) into a Dataset object\n",
    "    \"\"\"\n",
    "    data = pd.read_csv(filename, sep=sep)\n",
    "\n",
    "    if features and label:\n",
    "        features = data.columns[:-1]\n",
    "        label = data.columns[-1]\n",
    "        X = data.iloc[:, :-1].to_numpy()\n",
    "        y = data.iloc[:, -1].to_numpy()\n",
    "\n",
    "    elif features and not label:\n",
    "        features = data.columns\n",
    "        X = data.to_numpy()\n",
    "        y = None\n",
    "\n",
    "    elif not features and label:\n",
    "        X = data.iloc[:, :-1].to_numpy()\n",
    "        y = data.iloc[:, -1].to_numpy()\n",
    "        features = None\n",
    "        label = None\n",
    "\n",
    "    else:\n",
    "        X = data.to_numpy()\n",
    "        y = None\n",
    "        features = None\n",
    "        label = None\n",
    "\n",
    "    return Dataset(X, y, features=features, label=label)"
   ]
  },
  {
   "cell_type": "code",
   "execution_count": 3,
   "metadata": {},
   "outputs": [],
   "source": [
    "# Datasets\n",
    "iris_dataset = read_csv('../../datasets/iris.csv', features=True, label=True)\n",
    "\n",
    "random_dataset = Dataset.from_random(100, 10,5)\n",
    "random_dataset.X[:, 2] = 0"
   ]
  },
  {
   "attachments": {},
   "cell_type": "markdown",
   "metadata": {},
   "source": [
    "### Variance Threshold"
   ]
  },
  {
   "cell_type": "code",
   "execution_count": 4,
   "metadata": {},
   "outputs": [],
   "source": [
    "import numpy as np\n",
    "import sys\n",
    "sys.path.append('..')\n",
    "from Aula1.Dataset import Dataset\n",
    "\n",
    "\n",
    "class VarianceThreshold:\n",
    "    \"\"\"\n",
    "    Feature Selection -> VarianceThreshold:\n",
    "    Features com variância (array-like) no dataset de treino mais baixa do que o threshold (float) devem ser removidas do dataset.\n",
    "    \"\"\"\n",
    "\n",
    "    def __init__(self, threshold: float = 0.0):\n",
    "        \n",
    "        if threshold < 0:\n",
    "            raise ValueError(\"Threshold must be non-negative\")\n",
    "\n",
    "        # parameters\n",
    "        self.threshold = threshold\n",
    "\n",
    "        # attributes\n",
    "        self.variance = None\n",
    "    \n",
    "    \n",
    "    def fit(self, dataset: Dataset) -> 'VarianceThreshold':\n",
    "        \"\"\" \n",
    "        Fazer fit do modelo de acordo com os dados de treino.\n",
    "        \"\"\"\n",
    "        self.variance = np.var(dataset.X, axis=0)\n",
    "        return self\n",
    "    \n",
    "\n",
    "    def transform(self, dataset: Dataset) -> Dataset:\n",
    "        \"\"\"\n",
    "        Remove features with variance lower than the threshold.\n",
    "        \"\"\"\n",
    "        X = dataset.X\n",
    "\n",
    "        features_mask = self.variance > self.threshold\n",
    "        X = X[:, features_mask]\n",
    "        features = np.array(dataset.features)[features_mask]\n",
    "\n",
    "        return Dataset(X=X, y=dataset.y, features=list(features), label=dataset.label)\n",
    "\n",
    "\n",
    "\n",
    "    def fit_transform(self, dataset: Dataset) -> Dataset:\n",
    "        \"\"\"\n",
    "        Fazer fit e de seguida transformar.\n",
    "        \"\"\"\n",
    "        self.fit(dataset)\n",
    "        return self.transform(dataset)"
   ]
  },
  {
   "attachments": {},
   "cell_type": "markdown",
   "metadata": {},
   "source": [
    "#### Test: VarianceThreshold"
   ]
  },
  {
   "cell_type": "code",
   "execution_count": 5,
   "metadata": {},
   "outputs": [
    {
     "data": {
      "text/plain": [
       "(150, 3)"
      ]
     },
     "execution_count": 5,
     "metadata": {},
     "output_type": "execute_result"
    }
   ],
   "source": [
    "var_threshold = VarianceThreshold(0.5)\n",
    "var_threshold.fit(iris_dataset)\n",
    "transformed_dataset = var_threshold.transform(iris_dataset)\n",
    "transformed_dataset.shape()"
   ]
  },
  {
   "cell_type": "code",
   "execution_count": 6,
   "metadata": {},
   "outputs": [
    {
     "data": {
      "text/plain": [
       "array([[5.1, 1.4, 0.2],\n",
       "       [4.9, 1.4, 0.2],\n",
       "       [4.7, 1.3, 0.2],\n",
       "       [4.6, 1.5, 0.2],\n",
       "       [5. , 1.4, 0.2],\n",
       "       [5.4, 1.7, 0.4],\n",
       "       [4.6, 1.4, 0.3],\n",
       "       [5. , 1.5, 0.2],\n",
       "       [4.4, 1.4, 0.2],\n",
       "       [4.9, 1.5, 0.1],\n",
       "       [5.4, 1.5, 0.2],\n",
       "       [4.8, 1.6, 0.2],\n",
       "       [4.8, 1.4, 0.1],\n",
       "       [4.3, 1.1, 0.1],\n",
       "       [5.8, 1.2, 0.2],\n",
       "       [5.7, 1.5, 0.4],\n",
       "       [5.4, 1.3, 0.4],\n",
       "       [5.1, 1.4, 0.3],\n",
       "       [5.7, 1.7, 0.3],\n",
       "       [5.1, 1.5, 0.3],\n",
       "       [5.4, 1.7, 0.2],\n",
       "       [5.1, 1.5, 0.4],\n",
       "       [4.6, 1. , 0.2],\n",
       "       [5.1, 1.7, 0.5],\n",
       "       [4.8, 1.9, 0.2],\n",
       "       [5. , 1.6, 0.2],\n",
       "       [5. , 1.6, 0.4],\n",
       "       [5.2, 1.5, 0.2],\n",
       "       [5.2, 1.4, 0.2],\n",
       "       [4.7, 1.6, 0.2],\n",
       "       [4.8, 1.6, 0.2],\n",
       "       [5.4, 1.5, 0.4],\n",
       "       [5.2, 1.5, 0.1],\n",
       "       [5.5, 1.4, 0.2],\n",
       "       [4.9, 1.5, 0.1],\n",
       "       [5. , 1.2, 0.2],\n",
       "       [5.5, 1.3, 0.2],\n",
       "       [4.9, 1.5, 0.1],\n",
       "       [4.4, 1.3, 0.2],\n",
       "       [5.1, 1.5, 0.2],\n",
       "       [5. , 1.3, 0.3],\n",
       "       [4.5, 1.3, 0.3],\n",
       "       [4.4, 1.3, 0.2],\n",
       "       [5. , 1.6, 0.6],\n",
       "       [5.1, 1.9, 0.4],\n",
       "       [4.8, 1.4, 0.3],\n",
       "       [5.1, 1.6, 0.2],\n",
       "       [4.6, 1.4, 0.2],\n",
       "       [5.3, 1.5, 0.2],\n",
       "       [5. , 1.4, 0.2],\n",
       "       [7. , 4.7, 1.4],\n",
       "       [6.4, 4.5, 1.5],\n",
       "       [6.9, 4.9, 1.5],\n",
       "       [5.5, 4. , 1.3],\n",
       "       [6.5, 4.6, 1.5],\n",
       "       [5.7, 4.5, 1.3],\n",
       "       [6.3, 4.7, 1.6],\n",
       "       [4.9, 3.3, 1. ],\n",
       "       [6.6, 4.6, 1.3],\n",
       "       [5.2, 3.9, 1.4],\n",
       "       [5. , 3.5, 1. ],\n",
       "       [5.9, 4.2, 1.5],\n",
       "       [6. , 4. , 1. ],\n",
       "       [6.1, 4.7, 1.4],\n",
       "       [5.6, 3.6, 1.3],\n",
       "       [6.7, 4.4, 1.4],\n",
       "       [5.6, 4.5, 1.5],\n",
       "       [5.8, 4.1, 1. ],\n",
       "       [6.2, 4.5, 1.5],\n",
       "       [5.6, 3.9, 1.1],\n",
       "       [5.9, 4.8, 1.8],\n",
       "       [6.1, 4. , 1.3],\n",
       "       [6.3, 4.9, 1.5],\n",
       "       [6.1, 4.7, 1.2],\n",
       "       [6.4, 4.3, 1.3],\n",
       "       [6.6, 4.4, 1.4],\n",
       "       [6.8, 4.8, 1.4],\n",
       "       [6.7, 5. , 1.7],\n",
       "       [6. , 4.5, 1.5],\n",
       "       [5.7, 3.5, 1. ],\n",
       "       [5.5, 3.8, 1.1],\n",
       "       [5.5, 3.7, 1. ],\n",
       "       [5.8, 3.9, 1.2],\n",
       "       [6. , 5.1, 1.6],\n",
       "       [5.4, 4.5, 1.5],\n",
       "       [6. , 4.5, 1.6],\n",
       "       [6.7, 4.7, 1.5],\n",
       "       [6.3, 4.4, 1.3],\n",
       "       [5.6, 4.1, 1.3],\n",
       "       [5.5, 4. , 1.3],\n",
       "       [5.5, 4.4, 1.2],\n",
       "       [6.1, 4.6, 1.4],\n",
       "       [5.8, 4. , 1.2],\n",
       "       [5. , 3.3, 1. ],\n",
       "       [5.6, 4.2, 1.3],\n",
       "       [5.7, 4.2, 1.2],\n",
       "       [5.7, 4.2, 1.3],\n",
       "       [6.2, 4.3, 1.3],\n",
       "       [5.1, 3. , 1.1],\n",
       "       [5.7, 4.1, 1.3],\n",
       "       [6.3, 6. , 2.5],\n",
       "       [5.8, 5.1, 1.9],\n",
       "       [7.1, 5.9, 2.1],\n",
       "       [6.3, 5.6, 1.8],\n",
       "       [6.5, 5.8, 2.2],\n",
       "       [7.6, 6.6, 2.1],\n",
       "       [4.9, 4.5, 1.7],\n",
       "       [7.3, 6.3, 1.8],\n",
       "       [6.7, 5.8, 1.8],\n",
       "       [7.2, 6.1, 2.5],\n",
       "       [6.5, 5.1, 2. ],\n",
       "       [6.4, 5.3, 1.9],\n",
       "       [6.8, 5.5, 2.1],\n",
       "       [5.7, 5. , 2. ],\n",
       "       [5.8, 5.1, 2.4],\n",
       "       [6.4, 5.3, 2.3],\n",
       "       [6.5, 5.5, 1.8],\n",
       "       [7.7, 6.7, 2.2],\n",
       "       [7.7, 6.9, 2.3],\n",
       "       [6. , 5. , 1.5],\n",
       "       [6.9, 5.7, 2.3],\n",
       "       [5.6, 4.9, 2. ],\n",
       "       [7.7, 6.7, 2. ],\n",
       "       [6.3, 4.9, 1.8],\n",
       "       [6.7, 5.7, 2.1],\n",
       "       [7.2, 6. , 1.8],\n",
       "       [6.2, 4.8, 1.8],\n",
       "       [6.1, 4.9, 1.8],\n",
       "       [6.4, 5.6, 2.1],\n",
       "       [7.2, 5.8, 1.6],\n",
       "       [7.4, 6.1, 1.9],\n",
       "       [7.9, 6.4, 2. ],\n",
       "       [6.4, 5.6, 2.2],\n",
       "       [6.3, 5.1, 1.5],\n",
       "       [6.1, 5.6, 1.4],\n",
       "       [7.7, 6.1, 2.3],\n",
       "       [6.3, 5.6, 2.4],\n",
       "       [6.4, 5.5, 1.8],\n",
       "       [6. , 4.8, 1.8],\n",
       "       [6.9, 5.4, 2.1],\n",
       "       [6.7, 5.6, 2.4],\n",
       "       [6.9, 5.1, 2.3],\n",
       "       [5.8, 5.1, 1.9],\n",
       "       [6.8, 5.9, 2.3],\n",
       "       [6.7, 5.7, 2.5],\n",
       "       [6.7, 5.2, 2.3],\n",
       "       [6.3, 5. , 1.9],\n",
       "       [6.5, 5.2, 2. ],\n",
       "       [6.2, 5.4, 2.3],\n",
       "       [5.9, 5.1, 1.8]])"
      ]
     },
     "execution_count": 6,
     "metadata": {},
     "output_type": "execute_result"
    }
   ],
   "source": [
    "transformed_dataset.X"
   ]
  },
  {
   "attachments": {},
   "cell_type": "markdown",
   "metadata": {},
   "source": [
    "### Select K Best"
   ]
  },
  {
   "cell_type": "code",
   "execution_count": 7,
   "metadata": {},
   "outputs": [],
   "source": [
    "class SelectKBest:\n",
    "    \"\"\"\n",
    "    Selecionar features conforme k scores mais altos.\n",
    "    O ranking das features é feito fazendo a computação dos scores de cada feature usando uma `scoring function`.\n",
    "        - f_classification: ANOVA F-value between label/feature for classification tasks.\n",
    "        - f_regression: F-value obtained from F-value of r's pearson correlation coefficients for regression tasks.\n",
    "    \"\"\"\n",
    "\n",
    "    def __init__(self, score_func: Callable = FClassification.fit_transform, k: int = 10):\n",
    "        \"\"\"\n",
    "        Selecionar features conforme o k scores mais altos..\n",
    "        \"\"\"\n",
    "\n",
    "        self.k = k\n",
    "        self.score_func = score_func\n",
    "        self.F = None\n",
    "        self.p = None\n",
    "    \n",
    "    def fit(self, dataset: Dataset) -> 'SelectKBest':\n",
    "        \"\"\"\n",
    "        Faz o fit SelectKBest\n",
    "        \"\"\"\n",
    "        self.F, self.p = self.score_func(dataset)\n",
    "        return self\n",
    "\n",
    "    def transform(self, dataset: Dataset) -> Dataset:\n",
    "        \"\"\"\n",
    "        Transformar o dataset selecionando as k features com maior score.\n",
    "        \"\"\"\n",
    "        idxs = np.argsort(self.F)[-self.k:]\n",
    "        features = np.array(dataset.features)[idxs]\n",
    "        return Dataset(X=dataset.X[:, idxs], y=dataset.y, features=list(features), label=dataset.label)\n",
    "    \n",
    "    def fit_transform(self, dataset: Dataset) -> Dataset:\n",
    "        \"\"\"\n",
    "        Fit e de seguida transform.\n",
    "        \"\"\"\n",
    "        self.fit(dataset)\n",
    "        return self.transform(dataset)\n",
    "    "
   ]
  },
  {
   "attachments": {},
   "cell_type": "markdown",
   "metadata": {},
   "source": [
    "#### Test: Select K Best"
   ]
  },
  {
   "cell_type": "code",
   "execution_count": 8,
   "metadata": {},
   "outputs": [],
   "source": [
    "def f_classification(dataset: Dataset) -> Union[Tuple[np.ndarray, np.ndarray],\n",
    "                                                Tuple[float, float]]:\n",
    "    \"\"\"\n",
    "    Scoring function for classification problems. It computes one-way ANOVA F-value for the\n",
    "    provided dataset. The F-value scores allows analyzing if the mean between two or more groups (factors)\n",
    "    are significantly different. Samples are grouped by the labels of the dataset.\n",
    "    \"\"\"\n",
    "    classes = dataset.get_classes()\n",
    "    groups = [dataset.X[dataset.y == c] for c in classes]\n",
    "    F, p = stats.f_oneway(*groups)\n",
    "    return F, p"
   ]
  },
  {
   "cell_type": "code",
   "execution_count": 9,
   "metadata": {},
   "outputs": [
    {
     "data": {
      "text/plain": [
       "['petal_width', 'petal_length']"
      ]
     },
     "execution_count": 9,
     "metadata": {},
     "output_type": "execute_result"
    }
   ],
   "source": [
    "# Select K Best with f_classification\n",
    "k_best = SelectKBest(score_func=f_classification, k=2)\n",
    "k_best.fit_transform(iris_dataset).features"
   ]
  }
 ],
 "metadata": {
  "kernelspec": {
   "display_name": "Python 3",
   "language": "python",
   "name": "python3"
  },
  "language_info": {
   "codemirror_mode": {
    "name": "ipython",
    "version": 3
   },
   "file_extension": ".py",
   "mimetype": "text/x-python",
   "name": "python",
   "nbconvert_exporter": "python",
   "pygments_lexer": "ipython3",
   "version": "3.10.9"
  },
  "orig_nbformat": 4
 },
 "nbformat": 4,
 "nbformat_minor": 2
}
